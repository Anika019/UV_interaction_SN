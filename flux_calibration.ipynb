{
 "cells": [
  {
   "cell_type": "code",
   "execution_count": 1,
   "metadata": {},
   "outputs": [],
   "source": [
    "import synphot\n",
    "from astropy.io import ascii\n",
    "import matplotlib.pyplot as plt"
   ]
  },
  {
   "cell_type": "code",
   "execution_count": 47,
   "metadata": {},
   "outputs": [],
   "source": [
    "import pyphot\n",
    "from pyphot import Filter\n",
    "import sncosmo\n",
    "import numpy as np\n",
    "f_wavelength = np.arange(2000, 12000, 1)\n",
    "bessellv = sncosmo.get_bandpass('bessellv')\n",
    "sdssr = sncosmo.get_bandpass('sdssr')\n",
    "sdssi = sncosmo.get_bandpass('sdssi')\n",
    "\n",
    "# if lamb_T has units the Filter object will use those.\n",
    "f_V = Filter(f_wavelength, bessellv(f_wavelength), name='bessellv', unit='Angstrom')\n",
    "f_r = Filter(f_wavelength, sdssr(f_wavelength), name='sdssr', unit='Angstrom')\n",
    "f_i = Filter(f_wavelength, sdssi(f_wavelength), name='sdssi', unit='Angstrom')\n"
   ]
  },
  {
   "cell_type": "code",
   "execution_count": 72,
   "metadata": {
    "scrolled": false
   },
   "outputs": [],
   "source": [
    "nxt_lc = ascii.read('./photometry/2020nxt_data.snana.txt') #data from YSE\n",
    "nxt_lc.sort('MJD')\n",
    "nxt_spec1 = ascii.read('./reduced_spectra/2020nxt/20nxt_optical/sn2020nxt-20200718.449.coadd.blotch-ui.flm')\n",
    "nxt_spec2 = ascii.read('./reduced_spectra/2020nxt/20nxt_optical/sn2020nxt-20200728.435.coadd.blotch-ui.flm')\n",
    "nxt_lc_2 = ascii.read('./photometry/lightcurve_2020nxt_all_psf_standard_sub.dat') # data from Weikang\n"
   ]
  },
  {
   "cell_type": "code",
   "execution_count": 74,
   "metadata": {
    "scrolled": true
   },
   "outputs": [
    {
     "name": "stdout",
     "output_type": "stream",
     "text": [
      "18.443973529019466 18.477867517904887 18.883026079828753 18.86999332296773 18.862990464728536 18.896201679583395\n",
      "16.9539485559537 17.059521280753454 17.220828487795934 17.045519672645497 17.217519717148146 17.17181803873333\n"
     ]
    },
    {
     "data": {
      "text/plain": [
       "[<matplotlib.lines.Line2D at 0x7fdceda03410>]"
      ]
     },
     "execution_count": 74,
     "metadata": {},
     "output_type": "execute_result"
    },
    {
     "data": {
      "image/png": "[encoded data removed]",
      "text/plain": [
       "<Figure size 432x288 with 1 Axes>"
      ]
     },
     "metadata": {
      "needs_background": "light"
     },
     "output_type": "display_data"
    }
   ],
   "source": [
    "from pyphot import unit\n",
    "import pyphot\n",
    "import numpy as np\n",
    "\n",
    "lib = pyphot.get_library()\n",
    "f_wavelength = np.arange(2000, 12000, 1)\n",
    "\n",
    "f = lib['GROUND_JOHNSON_B']\n",
    "\n",
    "flux_B = f.get_flux(nxt_spec2['col1'].data* unit['AA'], \n",
    "                      nxt_spec2['col2'].data*1e-15* unit['erg/s/cm**2/AA'])\n",
    "m_B = -2.5 * np.log10(flux_B.value) - f.AB_zero_mag\n",
    "flux_B1 = f.get_flux(nxt_spec1['col1'].data* unit['AA'], \n",
    "                      nxt_spec1['col2'].data*1e-15* unit['erg/s/cm**2/AA'])\n",
    "m_B1 = -2.5 * np.log10(flux_B1.value) - f.AB_zero_mag\n",
    "\n",
    "f = lib['GROUND_JOHNSON_V']\n",
    "\n",
    "flux_V = f.get_flux(nxt_spec2['col1'].data* unit['AA'], \n",
    "                      nxt_spec2['col2'].data*1e-15* unit['erg/s/cm**2/AA'])\n",
    "m_V = -2.5 * np.log10(flux_V.value) - f.AB_zero_mag\n",
    "flux_V1 = f.get_flux(nxt_spec1['col1'].data* unit['AA'], \n",
    "                      nxt_spec1['col2'].data*1e-15* unit['erg/s/cm**2/AA'])\n",
    "m_V1 = -2.5 * np.log10(flux_V1.value) - f.AB_zero_mag\n",
    "\n",
    "f = lib['GROUND_COUSINS_R']\n",
    "\n",
    "flux_R = f.get_flux(nxt_spec2['col1'].data* unit['AA'], \n",
    "                      nxt_spec2['col2'].data*1e-15* unit['erg/s/cm**2/AA'])\n",
    "m_R = -2.5 * np.log10(flux_R.value) - f.AB_zero_mag\n",
    "flux_R1 = f.get_flux(nxt_spec1['col1'].data* unit['AA'], \n",
    "                      nxt_spec1['col2'].data*1e-15* unit['erg/s/cm**2/AA'])\n",
    "m_R1 = -2.5 * np.log10(flux_R1.value) - f.AB_zero_mag\n",
    "\n",
    "f = lib['GROUND_COUSINS_I']\n",
    "\n",
    "flux_I = f.get_flux(nxt_spec2['col1'].data* unit['AA'], \n",
    "                      nxt_spec2['col2'].data*1e-15* unit['erg/s/cm**2/AA'])\n",
    "m_I = -2.5 * np.log10(flux_I.value) - f.AB_zero_mag\n",
    "flux_I1 = f.get_flux(nxt_spec1['col1'].data* unit['AA'], \n",
    "                      nxt_spec1['col2'].data*1e-15* unit['erg/s/cm**2/AA'])\n",
    "m_I1 = -2.5 * np.log10(flux_I1.value) - f.AB_zero_mag\n",
    "\n",
    "f = lib['SDSS_r']\n",
    "\n",
    "flux_r = f.get_flux(nxt_spec2['col1'].data* unit['AA'], \n",
    "                      nxt_spec2['col2'].data*1e-15* unit['erg/s/cm**2/AA'])\n",
    "m_r = -2.5 * np.log10(flux_r.value) - f.AB_zero_mag\n",
    "flux_r1 = f.get_flux(nxt_spec1['col1'].data* unit['AA'], \n",
    "                      nxt_spec1['col2'].data*1e-15* unit['erg/s/cm**2/AA'])\n",
    "m_r1 = -2.5 * np.log10(flux_r1.value) - f.AB_zero_mag\n",
    "\n",
    "f = lib['SDSS_i']\n",
    "\n",
    "flux_i = f.get_flux(nxt_spec2['col1'].data* unit['AA'], \n",
    "                      nxt_spec2['col2'].data*1e-15* unit['erg/s/cm**2/AA'])\n",
    "m_i = -2.5 * np.log10(flux_i.value) - f.AB_zero_mag\n",
    "flux_i1 = f.get_flux(nxt_spec1['col1'].data* unit['AA'], \n",
    "                      nxt_spec1['col2'].data*1e-15* unit['erg/s/cm**2/AA'])\n",
    "m_i1 = -2.5 * np.log10(flux_i1.value) - f.AB_zero_mag\n",
    "\n",
    "print(m_B, m_V, m_R, m_I, m_r, m_i)\n",
    "print(m_B1, m_V1, m_R1, m_I1, m_r1, m_i1)\n",
    "\n",
    "#plt.plot(nxt_spec2['col1'],nxt_spec2['col2']/np.median(nxt_spec2['col2'])/3, alpha = 0.3)"
   ]
  },
  {
   "cell_type": "code",
   "execution_count": 42,
   "metadata": {
    "scrolled": true
   },
   "outputs": [
    {
     "data": {
      "text/plain": [
       "<matplotlib.lines.Line2D at 0x7fdcef39c150>"
      ]
     },
     "execution_count": 42,
     "metadata": {},
     "output_type": "execute_result"
    },
    {
     "data": {
      "image/png": "[encoded data removed]",
      "text/plain": [
       "<Figure size 432x288 with 1 Axes>"
      ]
     },
     "metadata": {
      "needs_background": "light"
     },
     "output_type": "display_data"
    }
   ],
   "source": [
    "#comparison with YSE data\n",
    "plt.errorbar(nxt_lc['MJD'][15:21:3], nxt_lc['MAG'][15:21:3], nxt_lc['MAGERR'][15:21:3], \n",
    "             marker = 'o', linestyle = 'None', color = 'b', alpha = 0.7)\n",
    "plt.errorbar(nxt_lc['MJD'][16:21:3], nxt_lc['MAG'][16:21:3], nxt_lc['MAGERR'][16:21:3], \n",
    "             marker = 'o', linestyle = 'None', color = 'r', alpha = 0.7)\n",
    "plt.errorbar(nxt_lc['MJD'][17:21:3], nxt_lc['MAG'][17:21:3], nxt_lc['MAGERR'][17:21:3], \n",
    "             marker = 'o', linestyle = 'None', color = 'orange', alpha = 0.7)\n",
    "plt.scatter([59058.71533457176],[m_V],marker = 'x', linestyle = 'None', color = 'b', alpha = 0.7)\n",
    "plt.scatter([59058.71533457176],[m_r],marker = 'x', linestyle = 'None', color = 'r', alpha = 0.7)\n",
    "plt.scatter([59058.71533457176],[m_i],marker = 'x', linestyle = 'None', color = 'orange', alpha = 0.7)\n",
    "\n",
    "plt.ylim(23,16)\n",
    "plt.xlim(59045, 59070)\n",
    "plt.axvline(59049.64291570602)\n",
    "plt.axvline(59058.71533457176)"
   ]
  },
  {
   "cell_type": "code",
   "execution_count": 75,
   "metadata": {},
   "outputs": [
    {
     "data": {
      "text/plain": [
       "<matplotlib.lines.Line2D at 0x7fdcef6d7d50>"
      ]
     },
     "execution_count": 75,
     "metadata": {},
     "output_type": "execute_result"
    },
    {
     "data": {
      "image/png": "[encoded data removed]",
      "text/plain": [
       "<Figure size 720x432 with 1 Axes>"
      ]
     },
     "metadata": {
      "needs_background": "light"
     },
     "output_type": "display_data"
    }
   ],
   "source": [
    "#COmparison with Weikang's data\n",
    "plt.figure(figsize = (10, 6))\n",
    "plt.errorbar(nxt_lc_2['MJD'], nxt_lc_2['B'], nxt_lc_2['EB'], \n",
    "             marker = 'o', linestyle = 'None', color = 'b', alpha = 0.7)\n",
    "plt.errorbar(nxt_lc_2['MJD'], nxt_lc_2['V'], nxt_lc_2['EV'], \n",
    "             marker = 'o', linestyle = 'None', color = 'g', alpha = 0.7)\n",
    "plt.errorbar(nxt_lc_2['MJD'], nxt_lc_2['R'], nxt_lc_2['ER'], \n",
    "             marker = 'o', linestyle = 'None', color = 'orange', alpha = 0.7)\n",
    "plt.errorbar(nxt_lc_2['MJD'], nxt_lc_2['I'], nxt_lc_2['EI'], \n",
    "             marker = 'o', linestyle = 'None', color = 'r', alpha = 0.7)\n",
    "plt.scatter([59049.64291570602,59058.71533457176],[m_B1,m_B],marker = 'x', linestyle = 'None', color = 'b', alpha = 0.7)\n",
    "plt.scatter([59049.64291570602,59058.71533457176],[m_V1,m_V],marker = 'x', linestyle = 'None', color = 'g', alpha = 0.7)\n",
    "plt.scatter([59049.64291570602,59058.71533457176],[m_R1,m_R],marker = 'x', linestyle = 'None', color = 'orange', alpha = 0.7)\n",
    "plt.scatter([59049.64291570602,59058.71533457176],[m_I1,m_I],marker = 'x', linestyle = 'None', color = 'r', alpha = 0.7)\n",
    "\n",
    "plt.ylim(20,16)\n",
    "plt.xlim(59045, 59065)\n",
    "plt.axvline(59049.64291570602, linestyle = ':')\n",
    "plt.axvline(59058.71533457176, linestyle = ':')"
   ]
  },
  {
   "cell_type": "code",
   "execution_count": 85,
   "metadata": {},
   "outputs": [
    {
     "name": "stdout",
     "output_type": "stream",
     "text": [
      "0.4272767960926842\n",
      "0.37698797378785187\n",
      "0.2510156247573647\n",
      "-0.05715436038215671\n"
     ]
    }
   ],
   "source": [
    "B_line = np.polyfit(nxt_lc_2[:6]['MJD'],nxt_lc_2[:6]['B'],1)\n",
    "print(B_line[1]+B_line[0]*59049.64291570602-m_B1)\n",
    "V_line = np.polyfit(nxt_lc_2[:6]['MJD'],nxt_lc_2[:6]['V'],1)\n",
    "print(V_line[1]+V_line[0]*59049.64291570602-m_V1)\n",
    "R_line = np.polyfit(nxt_lc_2[:6]['MJD'],nxt_lc_2[:6]['R'],1)\n",
    "print(R_line[1]+R_line[0]*59049.64291570602-m_R1)\n",
    "I_line = np.polyfit(nxt_lc_2[:6]['MJD'],nxt_lc_2[:6]['I'],1)\n",
    "print(I_line[1]+I_line[0]*59049.64291570602-m_I1)"
   ]
  },
  {
   "cell_type": "code",
   "execution_count": 87,
   "metadata": {},
   "outputs": [
    {
     "data": {
      "text/plain": [
       "0.24953150856393602"
      ]
     },
     "execution_count": 87,
     "metadata": {},
     "output_type": "execute_result"
    }
   ],
   "source": [
    "np.average([0.4272767960926842,0.37698797378785187,0.2510156247573647,-0.05715436038215671])"
   ]
  },
  {
   "cell_type": "code",
   "execution_count": 69,
   "metadata": {},
   "outputs": [
    {
     "data": {
      "text/plain": [
       "18.66871511243021"
      ]
     },
     "execution_count": 69,
     "metadata": {},
     "output_type": "execute_result"
    }
   ],
   "source": [
    "np.average([m_B,m_R,m_V,m_I])"
   ]
  },
  {
   "cell_type": "code",
   "execution_count": 68,
   "metadata": {},
   "outputs": [
    {
     "data": {
      "text/plain": [
       "18.628"
      ]
     },
     "execution_count": 68,
     "metadata": {},
     "output_type": "execute_result"
    }
   ],
   "source": [
    "np.sum([18.613,18.538,18.778,18.583])/4."
   ]
  },
  {
   "cell_type": "code",
   "execution_count": 20,
   "metadata": {
    "scrolled": true
   },
   "outputs": [
    {
     "data": {
      "text/html": [
       "<i>Table length=3</i>\n",
       "<table id=\"table140587277603024\" class=\"table-striped table-bordered table-condensed\">\n",
       "<thead><tr><th>VARLIST:</th><th>MJD</th><th>FLT</th><th>FLUXCAL</th><th>FLUXCALERR</th><th>MAG</th><th>MAGERR</th><th>MAGSYS</th><th>TELESCOPE</th><th>INSTRUMENT</th></tr></thead>\n",
       "<thead><tr><th>str4</th><th>float64</th><th>str6</th><th>float64</th><th>float64</th><th>float64</th><th>float64</th><th>str4</th><th>str11</th><th>str12</th></tr></thead>\n",
       "<tr><td>OBS:</td><td>59057.473</td><td>V</td><td>9901.855</td><td>9901.855</td><td>17.511</td><td>1.086</td><td>None</td><td>Nickel</td><td>Direct/2Kx2K</td></tr>\n",
       "<tr><td>OBS:</td><td>59057.488</td><td>r</td><td>2124.211</td><td>2124.211</td><td>19.182</td><td>1.086</td><td>None</td><td>Nickel</td><td>Direct/2Kx2K</td></tr>\n",
       "<tr><td>OBS:</td><td>59057.494</td><td>i</td><td>4527.631</td><td>4527.631</td><td>18.36</td><td>1.086</td><td>None</td><td>Nickel</td><td>Direct/2Kx2K</td></tr>\n",
       "</table>"
      ],
      "text/plain": [
       "<Table length=3>\n",
       "VARLIST:    MJD    FLT  FLUXCAL  ...  MAGERR MAGSYS TELESCOPE  INSTRUMENT \n",
       "  str4    float64  str6 float64  ... float64  str4    str11      str12    \n",
       "-------- --------- ---- -------- ... ------- ------ --------- ------------\n",
       "    OBS: 59057.473    V 9901.855 ...   1.086   None    Nickel Direct/2Kx2K\n",
       "    OBS: 59057.488    r 2124.211 ...   1.086   None    Nickel Direct/2Kx2K\n",
       "    OBS: 59057.494    i 4527.631 ...   1.086   None    Nickel Direct/2Kx2K"
      ]
     },
     "execution_count": 20,
     "metadata": {},
     "output_type": "execute_result"
    }
   ],
   "source": [
    "nxt_lc[15:18]"
   ]
  },
  {
   "cell_type": "code",
   "execution_count": 43,
   "metadata": {
    "scrolled": true
   },
   "outputs": [
    {
     "data": {
      "text/html": [
       "<i>Table length=64</i>\n",
       "<table id=\"table140587279451280\" class=\"table-striped table-bordered table-condensed\">\n",
       "<thead><tr><th>VARLIST:</th><th>MJD</th><th>FLT</th><th>FLUXCAL</th><th>FLUXCALERR</th><th>MAG</th><th>MAGERR</th><th>MAGSYS</th><th>TELESCOPE</th><th>INSTRUMENT</th></tr></thead>\n",
       "<thead><tr><th>str4</th><th>float64</th><th>str6</th><th>float64</th><th>float64</th><th>float64</th><th>float64</th><th>str4</th><th>str11</th><th>str12</th></tr></thead>\n",
       "<tr><td>OBS:</td><td>59033.537</td><td>orange</td><td>13280.059</td><td>330.247</td><td>17.192</td><td>0.027</td><td>None</td><td>ATLAS</td><td>HKO</td></tr>\n",
       "<tr><td>OBS:</td><td>59046.11</td><td>UVW1</td><td>17540.421</td><td>468.537</td><td>16.89</td><td>0.029</td><td>None</td><td>Swift</td><td>UVOT</td></tr>\n",
       "<tr><td>OBS:</td><td>59046.112</td><td>U</td><td>28736.414</td><td>717.701</td><td>16.354</td><td>0.027</td><td>None</td><td>Swift</td><td>UVOT</td></tr>\n",
       "<tr><td>OBS:</td><td>59046.113</td><td>B</td><td>53024.639</td><td>1030.555</td><td>15.689</td><td>0.021</td><td>None</td><td>Swift</td><td>UVOT</td></tr>\n",
       "<tr><td>OBS:</td><td>59046.114</td><td>UVW2</td><td>9999.047</td><td>270.797</td><td>17.5</td><td>0.029</td><td>None</td><td>Swift</td><td>UVOT</td></tr>\n",
       "<tr><td>OBS:</td><td>59046.117</td><td>V</td><td>58828.685</td><td>1839.497</td><td>15.576</td><td>0.034</td><td>None</td><td>Swift</td><td>UVOT</td></tr>\n",
       "<tr><td>OBS:</td><td>59046.118</td><td>UVM2</td><td>9380.924</td><td>692.333</td><td>17.569</td><td>0.08</td><td>None</td><td>Swift</td><td>UVOT</td></tr>\n",
       "<tr><td>OBS:</td><td>59052.482</td><td>B</td><td>9150.198</td><td>148.94</td><td>17.596</td><td>0.018</td><td>None</td><td>Nickel</td><td>Direct/2Kx2K</td></tr>\n",
       "<tr><td>OBS:</td><td>59052.484</td><td>V</td><td>9642.818</td><td>138.191</td><td>17.54</td><td>0.016</td><td>None</td><td>Nickel</td><td>Direct/2Kx2K</td></tr>\n",
       "<tr><td>OBS:</td><td>59052.487</td><td>r</td><td>6839.426</td><td>128.201</td><td>17.913</td><td>0.02</td><td>None</td><td>Nickel</td><td>Direct/2Kx2K</td></tr>\n",
       "<tr><td>...</td><td>...</td><td>...</td><td>...</td><td>...</td><td>...</td><td>...</td><td>...</td><td>...</td><td>...</td></tr>\n",
       "<tr><td>OBS:</td><td>59076.476</td><td>g</td><td>1264.387</td><td>54.082</td><td>19.745</td><td>0.046</td><td>None</td><td>Pan-STARRS1</td><td>GPC1</td></tr>\n",
       "<tr><td>OBS:</td><td>59076.479</td><td>r</td><td>516.255</td><td>67.859</td><td>20.718</td><td>0.131</td><td>None</td><td>Pan-STARRS1</td><td>GPC1</td></tr>\n",
       "<tr><td>OBS:</td><td>59080.416</td><td>g</td><td>1100.424</td><td>58.146</td><td>19.896</td><td>0.057</td><td>None</td><td>Pan-STARRS1</td><td>GPC1</td></tr>\n",
       "<tr><td>OBS:</td><td>59080.419</td><td>i</td><td>615.232</td><td>71.356</td><td>20.527</td><td>0.116</td><td>None</td><td>Pan-STARRS1</td><td>GPC1</td></tr>\n",
       "<tr><td>OBS:</td><td>59236.19</td><td>UVW1</td><td>779.83</td><td>109.844</td><td>20.27</td><td>0.15</td><td>None</td><td>Swift</td><td>UVOT</td></tr>\n",
       "<tr><td>OBS:</td><td>59236.191</td><td>B</td><td>4570.882</td><td>512.037</td><td>18.35</td><td>0.12</td><td>None</td><td>Swift</td><td>UVOT</td></tr>\n",
       "<tr><td>OBS:</td><td>59236.191</td><td>U</td><td>1224.616</td><td>215.435</td><td>19.78</td><td>0.19</td><td>None</td><td>Swift</td><td>UVOT</td></tr>\n",
       "<tr><td>OBS:</td><td>59236.191</td><td>UVW2</td><td>544.503</td><td>71.787</td><td>20.66</td><td>0.14</td><td>None</td><td>Swift</td><td>UVOT</td></tr>\n",
       "<tr><td>OBS:</td><td>59236.193</td><td>UVM2</td><td>570.164</td><td>64.941</td><td>20.61</td><td>0.12</td><td>None</td><td>Swift</td><td>UVOT</td></tr>\n",
       "<tr><td>OBS:</td><td>59236.193</td><td>V</td><td>5701.643</td><td>946.481</td><td>18.11</td><td>0.18</td><td>None</td><td>Swift</td><td>UVOT</td></tr>\n",
       "</table>"
      ],
      "text/plain": [
       "<Table length=64>\n",
       "VARLIST:    MJD     FLT    FLUXCAL  ...  MAGERR MAGSYS  TELESCOPE   INSTRUMENT \n",
       "  str4    float64   str6   float64  ... float64  str4     str11       str12    \n",
       "-------- --------- ------ --------- ... ------- ------ ----------- ------------\n",
       "    OBS: 59033.537 orange 13280.059 ...   0.027   None       ATLAS          HKO\n",
       "    OBS:  59046.11   UVW1 17540.421 ...   0.029   None       Swift         UVOT\n",
       "    OBS: 59046.112      U 28736.414 ...   0.027   None       Swift         UVOT\n",
       "    OBS: 59046.113      B 53024.639 ...   0.021   None       Swift         UVOT\n",
       "    OBS: 59046.114   UVW2  9999.047 ...   0.029   None       Swift         UVOT\n",
       "    OBS: 59046.117      V 58828.685 ...   0.034   None       Swift         UVOT\n",
       "    OBS: 59046.118   UVM2  9380.924 ...    0.08   None       Swift         UVOT\n",
       "    OBS: 59052.482      B  9150.198 ...   0.018   None      Nickel Direct/2Kx2K\n",
       "    OBS: 59052.484      V  9642.818 ...   0.016   None      Nickel Direct/2Kx2K\n",
       "    OBS: 59052.487      r  6839.426 ...    0.02   None      Nickel Direct/2Kx2K\n",
       "     ...       ...    ...       ... ...     ...    ...         ...          ...\n",
       "    OBS: 59076.476      g  1264.387 ...   0.046   None Pan-STARRS1         GPC1\n",
       "    OBS: 59076.479      r   516.255 ...   0.131   None Pan-STARRS1         GPC1\n",
       "    OBS: 59080.416      g  1100.424 ...   0.057   None Pan-STARRS1         GPC1\n",
       "    OBS: 59080.419      i   615.232 ...   0.116   None Pan-STARRS1         GPC1\n",
       "    OBS:  59236.19   UVW1    779.83 ...    0.15   None       Swift         UVOT\n",
       "    OBS: 59236.191      B  4570.882 ...    0.12   None       Swift         UVOT\n",
       "    OBS: 59236.191      U  1224.616 ...    0.19   None       Swift         UVOT\n",
       "    OBS: 59236.191   UVW2   544.503 ...    0.14   None       Swift         UVOT\n",
       "    OBS: 59236.193   UVM2   570.164 ...    0.12   None       Swift         UVOT\n",
       "    OBS: 59236.193      V  5701.643 ...    0.18   None       Swift         UVOT"
      ]
     },
     "execution_count": 43,
     "metadata": {},
     "output_type": "execute_result"
    }
   ],
   "source": [
    "aekp_lc = ascii.read('./photometry/2020nxt_data.snana.txt')\n",
    "aekp_lc.sort('MJD')\n",
    "aekp_lc\n",
    "#nxt_spec2 = ascii.read('./reduced_spectra/2020nxt/20nxt_optical/sn2020nxt-20200728.435.coadd.blotch-ui.flm')"
   ]
  },
  {
   "cell_type": "code",
   "execution_count": 46,
   "metadata": {},
   "outputs": [
    {
     "data": {
      "text/plain": [
       "<matplotlib.lines.Line2D at 0x7fdcef1b62d0>"
      ]
     },
     "execution_count": 46,
     "metadata": {},
     "output_type": "execute_result"
    },
    {
     "data": {
      "image/png": "[encoded data removed]",
      "text/plain": [
       "<Figure size 432x288 with 1 Axes>"
      ]
     },
     "metadata": {
      "needs_background": "light"
     },
     "output_type": "display_data"
    }
   ],
   "source": [
    "plt.errorbar(aekp_lc['MJD'], aekp_lc['MAG'], aekp_lc['MAGERR'], \n",
    "             marker = 'o', linestyle = 'None', color = 'b', alpha = 0.7)\n",
    "\n",
    "\n",
    "plt.axvline(59421.834203935185)\n",
    "plt.axvline(59471.93836021991)"
   ]
  },
  {
   "cell_type": "code",
   "execution_count": null,
   "metadata": {},
   "outputs": [],
   "source": []
  }
 ],
 "metadata": {
  "kernelspec": {
   "display_name": "Python 3",
   "language": "python",
   "name": "python3"
  },
  "language_info": {
   "codemirror_mode": {
    "name": "ipython",
    "version": 3
   },
   "file_extension": ".py",
   "mimetype": "text/x-python",
   "name": "python",
   "nbconvert_exporter": "python",
   "pygments_lexer": "ipython3",
   "version": "3.7.4"
  }
 },
 "nbformat": 4,
 "nbformat_minor": 4
}
