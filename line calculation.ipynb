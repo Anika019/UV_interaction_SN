{
 "cells": [
  {
   "cell_type": "code",
   "execution_count": 1,
   "metadata": {},
   "outputs": [],
   "source": [
    "%matplotlib inline\n"
   ]
  },
  {
   "cell_type": "code",
   "execution_count": 6,
   "metadata": {},
   "outputs": [],
   "source": [
    "import matplotlib.pyplot as plt\n",
    "import matplotlib\n",
    "import os\n",
    "from astropy.io import ascii, fits\n",
    "import glob\n",
    "from scipy.ndimage import gaussian_filter1d\n",
    "from astropy.time import Time\n",
    "import glob\n",
    "import re\n",
    "from astropy.table import Table\n",
    "import astropy.table as at\n",
    "import astropy\n",
    "import numpy as np\n",
    "import extinction"
   ]
  },
  {
   "cell_type": "code",
   "execution_count": 4,
   "metadata": {},
   "outputs": [],
   "source": [
    "matplotlib.rcParams['figure.figsize']      = [15, 5]\n",
    "matplotlib.rcParams['image.origin']        = 'lower'\n",
    "matplotlib.rcParams['image.interpolation'] = 'none'\n",
    "matplotlib.rcParams['image.cmap']          = 'inferno'\n",
    "matplotlib.rcParams['image.aspect']        = 'auto'"
   ]
  },
  {
   "cell_type": "code",
   "execution_count": 7,
   "metadata": {},
   "outputs": [],
   "source": [
    "\n",
    "spec_log = Table(names = ['phase', 'name', 'file'], dtype = ['i4', 'U8', 'U64'])\n",
    "for folder in glob.glob('./reduced_spectra/*'):\n",
    "    objname = folder.split('/')[2]\n",
    "    f_list = glob.glob(folder+'/*')\n",
    "#    obj_dict = {}\n",
    "    for df in f_list:\n",
    "        t = int(re.findall(r'd\\d+', df)[0][1:])\n",
    "#        obj_dict[t] = df\n",
    "        spec_log.add_row([t, objname, df])\n",
    "#    f_dict[objname] = obj_dict\n",
    "spec_log.sort('phase')\n",
    "\n",
    "z_dict = {'2010jl':0.0107,\n",
    "          '2005ip':0.0072,\n",
    "          '2020aekp':0.046,\n",
    "          '2020nxt':0.023,\n",
    "          '1998S':0.003, \n",
    "          '2011fe':0.0008,\n",
    "          '2015G': 0.0045,\n",
    "          '2021csp':0.083,\n",
    "          '2017egm':0.030721,\n",
    "          '2020fqv':0.007522}\n",
    "\n",
    "type_dict = {'2010jl':'IIn',\n",
    "          '2005ip':'IIn',\n",
    "          '2020aekp':'Ia-CSM',\n",
    "          '2020nxt':'Ibn',\n",
    "          '1998S':'IIn', \n",
    "          '2011fe':'Ia',\n",
    "          '2015G': 'Ibn',\n",
    "          '2021csp':'Icn',\n",
    "          '2017egm':'SLSN-I',\n",
    "          '2020fqv':'Ia'}"
   ]
  },
  {
   "cell_type": "code",
   "execution_count": null,
   "metadata": {},
   "outputs": [],
   "source": [
    "xcoords=[1238,1484  ,1548  ,1640  ,1660    ,1746   ,1907   ,2139   ,2323   ,2650           , 2795  ]\n",
    "#xcoords=np.asarray(xcoords)*1.e-4\n",
    "names=['N V' ,'N IV','C IV','He II','O III','N III','C III','N II]','C II]','Mg II + Fe II','Mg II']\n"
   ]
  },
  {
   "cell_type": "code",
   "execution_count": 16,
   "metadata": {},
   "outputs": [],
   "source": [
    "from numpy import polyfit, poly1d\n",
    "from scipy.integrate import simps\n",
    "def calc_emflux(wav, flux, wav_up, wav_low):\n",
    "    ind = (wav>wav_low)&(wav<wav_up)\n",
    "    x = np.arange(len(wav))\n",
    "    up_ind = max(x[ind])\n",
    "    low_ind = min(x[ind])\n",
    "    p = polyfit(np.array([wav[low_ind-1],wav[low_ind],wav[low_ind+1],wav[up_ind-1],wav[up_ind],wav[up_ind+1]]), \n",
    "               np.array([flux[low_ind-1],flux[low_ind],flux[low_ind+1],flux[up_ind-1],flux[up_ind],flux[up_ind+1]]),\n",
    "               deg = 1)\n",
    "    continuum = poly1d(p)\n",
    "    emflux = simps(flux[ind]-continuum(wav[ind]), wav[ind])\n",
    "    return emflux"
   ]
  },
  {
   "cell_type": "code",
   "execution_count": 21,
   "metadata": {
    "scrolled": true
   },
   "outputs": [
    {
     "data": {
      "image/png": "[encoded data removed]",
      "text/plain": [
       "<Figure size 1080x360 with 1 Axes>"
      ]
     },
     "metadata": {
      "needs_background": "light"
     },
     "output_type": "display_data"
    }
   ],
   "source": [
    "spec = fits.open('./reduced_spectra/2005ip/2005ip_d3042FUV_x1d.fits')\n",
    "z = z_dict['2005ip']\n",
    "ebv = 0.047\n",
    "a_v = 3.1*ebv\n",
    "\n",
    "for bound in np.arange(2., 10., 0.5):\n",
    "    wav = spec[1].data['WAVELENGTH'][0]/(1+z)\n",
    "    flux = spec[1].data['FLUX'][0]\n",
    "    wav_up = 1242.8+bound\n",
    "    wav_low = 1238.8-bound\n",
    "    extinc = extinction.fitzpatrick99(np.array([wav_up,wav_low]), a_v, 3.1)[0]\n",
    "    emflux = calc_emflux(wav, flux, wav_up, wav_low)*10**(extinc/2.5)\n",
    "    plt.scatter(bound, emflux,color ='r')\n",
    "    \n",
    "for bound in np.arange(2., 10., 0.5):\n",
    "    wav = spec[1].data['WAVELENGTH'][0]/(1+z)\n",
    "    flux = spec[1].data['FLUX'][0]\n",
    "    wav_up =  1486.5+bound\n",
    "    wav_low = 1483.3-bound\n",
    "    extinc = extinction.fitzpatrick99(np.array([wav_up,wav_low]), a_v, 3.1)[0]\n",
    "    emflux = calc_emflux(wav, flux, wav_up, wav_low)*10**(extinc/2.5)*4.8/2.72\n",
    "    plt.scatter(bound, emflux,color ='g')\n",
    "    \n",
    "for bound in np.arange(2., 10., 0.5):\n",
    "    wav = spec[1].data['WAVELENGTH'][0]/(1+z)\n",
    "    flux = spec[1].data['FLUX'][0]\n",
    "    wav_up =  1550.7+bound\n",
    "    wav_low = 1548.2-bound\n",
    "    extinc = extinction.fitzpatrick99(np.array([wav_up,wav_low]), a_v, 3.1)[0]\n",
    "    emflux = calc_emflux(wav, flux, wav_up, wav_low)*10**(extinc/2.5)*4.8/1.14\n",
    "    plt.scatter(bound, emflux,color ='b')\n",
    "    \n",
    "for bound in np.arange(2., 10., 0.5):\n",
    "    wav = spec[1].data['WAVELENGTH'][0]/(1+z)\n",
    "    flux = spec[1].data['FLUX'][0]\n",
    "    wav_up = 1640.4+bound\n",
    "    wav_low = 1640.4-bound\n",
    "    extinc = extinction.fitzpatrick99(np.array([wav_up,wav_low]), a_v, 3.1)[0]\n",
    "    emflux = calc_emflux(wav, flux, wav_up, wav_low)*10**(extinc/2.5)*4.8/0.88\n",
    "    plt.scatter(bound, emflux,color ='k')"
   ]
  },
  {
   "cell_type": "code",
   "execution_count": null,
   "metadata": {},
   "outputs": [],
   "source": [
    "fig, axes = plt.subplots(nrow = 2, ncol = 2, figsize = (16, 16), sharey = True)\n"
   ]
  }
 ],
 "metadata": {
  "kernelspec": {
   "display_name": "Python 3",
   "language": "python",
   "name": "python3"
  },
  "language_info": {
   "codemirror_mode": {
    "name": "ipython",
    "version": 3
   },
   "file_extension": ".py",
   "mimetype": "text/x-python",
   "name": "python",
   "nbconvert_exporter": "python",
   "pygments_lexer": "ipython3",
   "version": "3.7.4"
  }
 },
 "nbformat": 4,
 "nbformat_minor": 4
}
